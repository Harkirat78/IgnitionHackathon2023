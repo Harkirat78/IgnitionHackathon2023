{
 "cells": [
  {
   "cell_type": "code",
   "execution_count": 5,
   "metadata": {},
   "outputs": [
    {
     "name": "stderr",
     "output_type": "stream",
     "text": [
      "C:\\Users\\Shane\\AppData\\Local\\Temp\\ipykernel_6332\\1944283716.py:7: DeprecationWarning: executable_path has been deprecated, please pass in a Service object\n",
      "  driver = webdriver.Chrome(ChromeDriverManager().install())\n"
     ]
    }
   ],
   "source": [
    "from selenium import webdriver\n",
    "from selenium.webdriver.common.by import By\n",
    "from webdriver_manager.chrome import ChromeDriverManager\n",
    "from element_manager import *\n",
    "from selenium.webdriver.common.keys import Keys\n",
    "from selenium.webdriver.support.ui import Select\n",
    "driver = webdriver.Chrome(ChromeDriverManager().install())\n",
    "# to open the url in browser\n",
    "driver.get('https://ised-isde.canada.ca/cipo/trademark-search/srch?lang=eng')\n",
    "\n",
    "# to select the option\n",
    "select_element=driver.find_element(By.XPATH,get_xpath(driver,'SvqW4HEINzAidQV'))\n",
    "selecttag=Select(select_element)\n",
    "selecttag.select_by_value('tmlookup_ext')\n",
    "\n",
    "# to click on input field\n",
    "driver.find_element(By.XPATH,get_xpath(driver,'34l07HUMse100gE')).click()\n",
    "\n",
    "# to type content in input field\n",
    "driver.find_element(By.XPATH,get_xpath(driver,'5okNS1Bdar56Q2g')).send_keys('shane')\n",
    "\n",
    "# press Enter key\n",
    "driver.switch_to.active_element.send_keys(Keys.ENTER)\n",
    "\n",
    "# to click on the element(Results found:      ...) found\n",
    "driver.find_element(By.XPATH,get_xpath(driver,'5cw651yVMQThGHK')).click()\n",
    "\n",
    "# to fetch the text of element\n",
    "text=driver.find_element(By.XPATH,get_xpath(driver,'thVgmvXUXYozmkv')).text\n",
    "print(text)\n"
   ]
  }
 ],
 "metadata": {
  "kernelspec": {
   "display_name": "Python 3",
   "language": "python",
   "name": "python3"
  },
  "language_info": {
   "codemirror_mode": {
    "name": "ipython",
    "version": 3
   },
   "file_extension": ".py",
   "mimetype": "text/x-python",
   "name": "python",
   "nbconvert_exporter": "python",
   "pygments_lexer": "ipython3",
   "version": "3.11.5"
  },
  "orig_nbformat": 4
 },
 "nbformat": 4,
 "nbformat_minor": 2
}
